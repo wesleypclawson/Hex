{
 "cells": [
  {
   "cell_type": "code",
   "execution_count": 19,
   "outputs": [],
   "source": [
    "import collections"
   ],
   "metadata": {
    "collapsed": false,
    "pycharm": {
     "name": "#%%\n"
    }
   }
  },
  {
   "cell_type": "code",
   "execution_count": 43,
   "outputs": [],
   "source": [
    "Hex = collections.namedtuple('Hex', ['q', 'r', 's'])\n",
    "\n",
    "def hex(q, r, s):\n",
    "    assert not (round(q + r + s) != 0), \"q + r + s must be 0\"\n",
    "    return Hex(q, r, s)\n",
    "\n",
    "def hex_add(a, b):\n",
    "    return hex(a.q + b.q, a.r + b.r, a.s + b.s)\n",
    "\n",
    "def hex_subtract(a, b):\n",
    "    return hex(a.q - b.q, a.r - b.r, a.s - b.s)"
   ],
   "metadata": {
    "collapsed": false,
    "pycharm": {
     "name": "#%%\n"
    }
   }
  },
  {
   "cell_type": "code",
   "execution_count": 46,
   "outputs": [
    {
     "name": "stdout",
     "output_type": "stream",
     "text": [
      "Hex(q=0, r=0, s=0)\n",
      "Hex(q=1, r=1, s=-2)\n",
      "Hex(q=1, r=1, s=-2)\n",
      "Hex(q=0, r=0, s=0)\n"
     ]
    }
   ],
   "source": [
    "start_hex = hex(0, 0, 0)\n",
    "move_hex = hex(1, 1, -2)\n",
    "print(start_hex)\n",
    "\n",
    "end_hex = hex_add(start_hex, move_hex)\n",
    "print(end_hex)\n",
    "\n",
    "current_hex = hex(0, 0, 0)\n",
    "current_hex = hex_add(current_hex, move_hex)\n",
    "print(current_hex)\n",
    "\n",
    "current_hex = hex_subtract(current_hex, move_hex)\n",
    "print(current_hex)"
   ],
   "metadata": {
    "collapsed": false,
    "pycharm": {
     "name": "#%%\n"
    }
   }
  },
  {
   "cell_type": "code",
   "execution_count": null,
   "outputs": [],
   "source": [],
   "metadata": {
    "collapsed": false,
    "pycharm": {
     "name": "#%%\n"
    }
   }
  }
 ],
 "metadata": {
  "kernelspec": {
   "display_name": "Python 3",
   "language": "python",
   "name": "python3"
  },
  "language_info": {
   "codemirror_mode": {
    "name": "ipython",
    "version": 2
   },
   "file_extension": ".py",
   "mimetype": "text/x-python",
   "name": "python",
   "nbconvert_exporter": "python",
   "pygments_lexer": "ipython2",
   "version": "2.7.6"
  }
 },
 "nbformat": 4,
 "nbformat_minor": 0
}